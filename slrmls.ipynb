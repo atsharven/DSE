{
 "cells": [
  {
   "cell_type": "code",
   "execution_count": 2,
   "id": "02a5ea5b",
   "metadata": {},
   "outputs": [],
   "source": [
    "\n",
    "import seaborn as sns"
   ]
  },
  {
   "cell_type": "code",
   "execution_count": 4,
   "id": "2bc63617",
   "metadata": {},
   "outputs": [
    {
     "data": {
      "text/html": [
       "<div>\n",
       "<style scoped>\n",
       "    .dataframe tbody tr th:only-of-type {\n",
       "        vertical-align: middle;\n",
       "    }\n",
       "\n",
       "    .dataframe tbody tr th {\n",
       "        vertical-align: top;\n",
       "    }\n",
       "\n",
       "    .dataframe thead th {\n",
       "        text-align: right;\n",
       "    }\n",
       "</style>\n",
       "<table border=\"1\" class=\"dataframe\">\n",
       "  <thead>\n",
       "    <tr style=\"text-align: right;\">\n",
       "      <th></th>\n",
       "      <th>sepal_length</th>\n",
       "      <th>sepal_width</th>\n",
       "      <th>petal_length</th>\n",
       "      <th>petal_width</th>\n",
       "      <th>species</th>\n",
       "    </tr>\n",
       "  </thead>\n",
       "  <tbody>\n",
       "    <tr>\n",
       "      <th>0</th>\n",
       "      <td>5.1</td>\n",
       "      <td>3.5</td>\n",
       "      <td>1.4</td>\n",
       "      <td>0.2</td>\n",
       "      <td>setosa</td>\n",
       "    </tr>\n",
       "    <tr>\n",
       "      <th>1</th>\n",
       "      <td>4.9</td>\n",
       "      <td>3.0</td>\n",
       "      <td>1.4</td>\n",
       "      <td>0.2</td>\n",
       "      <td>setosa</td>\n",
       "    </tr>\n",
       "    <tr>\n",
       "      <th>2</th>\n",
       "      <td>4.7</td>\n",
       "      <td>3.2</td>\n",
       "      <td>1.3</td>\n",
       "      <td>0.2</td>\n",
       "      <td>setosa</td>\n",
       "    </tr>\n",
       "    <tr>\n",
       "      <th>3</th>\n",
       "      <td>4.6</td>\n",
       "      <td>3.1</td>\n",
       "      <td>1.5</td>\n",
       "      <td>0.2</td>\n",
       "      <td>setosa</td>\n",
       "    </tr>\n",
       "    <tr>\n",
       "      <th>4</th>\n",
       "      <td>5.0</td>\n",
       "      <td>3.6</td>\n",
       "      <td>1.4</td>\n",
       "      <td>0.2</td>\n",
       "      <td>setosa</td>\n",
       "    </tr>\n",
       "  </tbody>\n",
       "</table>\n",
       "</div>"
      ],
      "text/plain": [
       "   sepal_length  sepal_width  petal_length  petal_width species\n",
       "0           5.1          3.5           1.4          0.2  setosa\n",
       "1           4.9          3.0           1.4          0.2  setosa\n",
       "2           4.7          3.2           1.3          0.2  setosa\n",
       "3           4.6          3.1           1.5          0.2  setosa\n",
       "4           5.0          3.6           1.4          0.2  setosa"
      ]
     },
     "execution_count": 4,
     "metadata": {},
     "output_type": "execute_result"
    }
   ],
   "source": [
    "iris=sns.load_dataset('iris')\n",
    "iris.head()"
   ]
  },
  {
   "cell_type": "code",
   "execution_count": 5,
   "id": "f8a94e9b",
   "metadata": {},
   "outputs": [],
   "source": [
    "x=iris['petal_length']\n",
    "y=iris['petal_width']\n"
   ]
  },
  {
   "cell_type": "code",
   "execution_count": 6,
   "id": "bde1089d",
   "metadata": {},
   "outputs": [
    {
     "data": {
      "text/plain": [
       "Text(0, 0.5, 'petal width')"
      ]
     },
     "execution_count": 6,
     "metadata": {},
     "output_type": "execute_result"
    },
    {
     "data": {
      "image/png": "[encoded data removed]",
      "text/plain": [
       "<Figure size 640x480 with 1 Axes>"
      ]
     },
     "metadata": {},
     "output_type": "display_data"
    }
   ],
   "source": [
    "import matplotlib.pyplot as plt\n",
    "plt.scatter(x,y)\n",
    "plt.xlabel(\"petal length\")\n",
    "plt.ylabel(\"petal width\")\n"
   ]
  },
  {
   "cell_type": "code",
   "execution_count": 14,
   "id": "1ed72f7c",
   "metadata": {},
   "outputs": [],
   "source": [
    "from sklearn.model_selection import train_test_split\n",
    "x_train, x_test, y_train, y_test=train_test_split(x,y,test_size=0.4,random_state=23)"
   ]
  },
  {
   "cell_type": "code",
   "execution_count": 15,
   "id": "506de975",
   "metadata": {},
   "outputs": [
    {
     "data": {
      "text/plain": [
       "77     5.0\n",
       "29     1.6\n",
       "92     4.0\n",
       "23     1.7\n",
       "128    5.6\n",
       "      ... \n",
       "39     1.5\n",
       "91     4.6\n",
       "31     1.5\n",
       "40     1.3\n",
       "83     5.1\n",
       "Name: petal_length, Length: 90, dtype: float64"
      ]
     },
     "execution_count": 15,
     "metadata": {},
     "output_type": "execute_result"
    }
   ],
   "source": [
    "x_train"
   ]
  },
  {
   "cell_type": "code",
   "execution_count": 17,
   "id": "9f8b2230",
   "metadata": {},
   "outputs": [
    {
     "data": {
      "text/plain": [
       "array([[5. ],\n",
       "       [1.6],\n",
       "       [4. ],\n",
       "       [1.7],\n",
       "       [5.6],\n",
       "       [4. ],\n",
       "       [4.8],\n",
       "       [5.6],\n",
       "       [5.1],\n",
       "       [4.9],\n",
       "       [1.4],\n",
       "       [1.6],\n",
       "       [5.6],\n",
       "       [1.4],\n",
       "       [1.6],\n",
       "       [5.5],\n",
       "       [5.1],\n",
       "       [4. ],\n",
       "       [1.4],\n",
       "       [4.1],\n",
       "       [5.3],\n",
       "       [4.5],\n",
       "       [5.8],\n",
       "       [6.6],\n",
       "       [4.3],\n",
       "       [1.3],\n",
       "       [4. ],\n",
       "       [4.9],\n",
       "       [4.9],\n",
       "       [4. ],\n",
       "       [1.5],\n",
       "       [4.5],\n",
       "       [4.5],\n",
       "       [3.9],\n",
       "       [5. ],\n",
       "       [4.8],\n",
       "       [3.8],\n",
       "       [5.1],\n",
       "       [6.3],\n",
       "       [6.1],\n",
       "       [1.2],\n",
       "       [5.7],\n",
       "       [3. ],\n",
       "       [1.5],\n",
       "       [5.9],\n",
       "       [4.8],\n",
       "       [1.4],\n",
       "       [4.5],\n",
       "       [4.2],\n",
       "       [5.2],\n",
       "       [1.3],\n",
       "       [1. ],\n",
       "       [3.5],\n",
       "       [1.1],\n",
       "       [4.7],\n",
       "       [4.2],\n",
       "       [1.2],\n",
       "       [5.8],\n",
       "       [4.3],\n",
       "       [4.5],\n",
       "       [1.6],\n",
       "       [6.9],\n",
       "       [4.6],\n",
       "       [5.1],\n",
       "       [5.6],\n",
       "       [4.7],\n",
       "       [1.5],\n",
       "       [1.6],\n",
       "       [5.5],\n",
       "       [5.8],\n",
       "       [4.4],\n",
       "       [1.3],\n",
       "       [5.2],\n",
       "       [3.3],\n",
       "       [5.7],\n",
       "       [3.5],\n",
       "       [1.3],\n",
       "       [1.5],\n",
       "       [1.5],\n",
       "       [5.1],\n",
       "       [1.4],\n",
       "       [1.4],\n",
       "       [4.9],\n",
       "       [1.4],\n",
       "       [4.4],\n",
       "       [1.5],\n",
       "       [4.6],\n",
       "       [1.5],\n",
       "       [1.3],\n",
       "       [5.1]])"
      ]
     },
     "execution_count": 17,
     "metadata": {},
     "output_type": "execute_result"
    }
   ],
   "source": [
    "import numpy as np\n",
    "x_train=np.array(x_train).reshape(-1,1)\n",
    "x_train"
   ]
  },
  {
   "cell_type": "code",
   "execution_count": 18,
   "id": "bfebb05b",
   "metadata": {},
   "outputs": [],
   "source": [
    "from sklearn.linear_model import LinearRegression"
   ]
  },
  {
   "cell_type": "code",
   "execution_count": 19,
   "id": "72cd1f5a",
   "metadata": {},
   "outputs": [],
   "source": [
    "lr=LinearRegression()"
   ]
  },
  {
   "cell_type": "code",
   "execution_count": 20,
   "id": "0178b679",
   "metadata": {},
   "outputs": [
    {
     "data": {
      "text/html": [
       "<style>#sk-container-id-1 {color: black;background-color: white;}#sk-container-id-1 pre{padding: 0;}#sk-container-id-1 div.sk-toggleable {background-color: white;}#sk-container-id-1 label.sk-toggleable__label {cursor: pointer;display: block;width: 100%;margin-bottom: 0;padding: 0.3em;box-sizing: border-box;text-align: center;}#sk-container-id-1 label.sk-toggleable__label-arrow:before {content: \"▸\";float: left;margin-right: 0.25em;color: #696969;}#sk-container-id-1 label.sk-toggleable__label-arrow:hover:before {color: black;}#sk-container-id-1 div.sk-estimator:hover label.sk-toggleable__label-arrow:before {color: black;}#sk-container-id-1 div.sk-toggleable__content {max-height: 0;max-width: 0;overflow: hidden;text-align: left;background-color: #f0f8ff;}#sk-container-id-1 div.sk-toggleable__content pre {margin: 0.2em;color: black;border-radius: 0.25em;background-color: #f0f8ff;}#sk-container-id-1 input.sk-toggleable__control:checked~div.sk-toggleable__content {max-height: 200px;max-width: 100%;overflow: auto;}#sk-container-id-1 input.sk-toggleable__control:checked~label.sk-toggleable__label-arrow:before {content: \"▾\";}#sk-container-id-1 div.sk-estimator input.sk-toggleable__control:checked~label.sk-toggleable__label {background-color: #d4ebff;}#sk-container-id-1 div.sk-label input.sk-toggleable__control:checked~label.sk-toggleable__label {background-color: #d4ebff;}#sk-container-id-1 input.sk-hidden--visually {border: 0;clip: rect(1px 1px 1px 1px);clip: rect(1px, 1px, 1px, 1px);height: 1px;margin: -1px;overflow: hidden;padding: 0;position: absolute;width: 1px;}#sk-container-id-1 div.sk-estimator {font-family: monospace;background-color: #f0f8ff;border: 1px dotted black;border-radius: 0.25em;box-sizing: border-box;margin-bottom: 0.5em;}#sk-container-id-1 div.sk-estimator:hover {background-color: #d4ebff;}#sk-container-id-1 div.sk-parallel-item::after {content: \"\";width: 100%;border-bottom: 1px solid gray;flex-grow: 1;}#sk-container-id-1 div.sk-label:hover label.sk-toggleable__label {background-color: #d4ebff;}#sk-container-id-1 div.sk-serial::before {content: \"\";position: absolute;border-left: 1px solid gray;box-sizing: border-box;top: 0;bottom: 0;left: 50%;z-index: 0;}#sk-container-id-1 div.sk-serial {display: flex;flex-direction: column;align-items: center;background-color: white;padding-right: 0.2em;padding-left: 0.2em;position: relative;}#sk-container-id-1 div.sk-item {position: relative;z-index: 1;}#sk-container-id-1 div.sk-parallel {display: flex;align-items: stretch;justify-content: center;background-color: white;position: relative;}#sk-container-id-1 div.sk-item::before, #sk-container-id-1 div.sk-parallel-item::before {content: \"\";position: absolute;border-left: 1px solid gray;box-sizing: border-box;top: 0;bottom: 0;left: 50%;z-index: -1;}#sk-container-id-1 div.sk-parallel-item {display: flex;flex-direction: column;z-index: 1;position: relative;background-color: white;}#sk-container-id-1 div.sk-parallel-item:first-child::after {align-self: flex-end;width: 50%;}#sk-container-id-1 div.sk-parallel-item:last-child::after {align-self: flex-start;width: 50%;}#sk-container-id-1 div.sk-parallel-item:only-child::after {width: 0;}#sk-container-id-1 div.sk-dashed-wrapped {border: 1px dashed gray;margin: 0 0.4em 0.5em 0.4em;box-sizing: border-box;padding-bottom: 0.4em;background-color: white;}#sk-container-id-1 div.sk-label label {font-family: monospace;font-weight: bold;display: inline-block;line-height: 1.2em;}#sk-container-id-1 div.sk-label-container {text-align: center;}#sk-container-id-1 div.sk-container {/* jupyter's `normalize.less` sets `[hidden] { display: none; }` but bootstrap.min.css set `[hidden] { display: none !important; }` so we also need the `!important` here to be able to override the default hidden behavior on the sphinx rendered scikit-learn.org. See: https://github.com/scikit-learn/scikit-learn/issues/21755 */display: inline-block !important;position: relative;}#sk-container-id-1 div.sk-text-repr-fallback {display: none;}</style><div id=\"sk-container-id-1\" class=\"sk-top-container\"><div class=\"sk-text-repr-fallback\"><pre>LinearRegression()</pre><b>In a Jupyter environment, please rerun this cell to show the HTML representation or trust the notebook. <br />On GitHub, the HTML representation is unable to render, please try loading this page with nbviewer.org.</b></div><div class=\"sk-container\" hidden><div class=\"sk-item\"><div class=\"sk-estimator sk-toggleable\"><input class=\"sk-toggleable__control sk-hidden--visually\" id=\"sk-estimator-id-1\" type=\"checkbox\" checked><label for=\"sk-estimator-id-1\" class=\"sk-toggleable__label sk-toggleable__label-arrow\">LinearRegression</label><div class=\"sk-toggleable__content\"><pre>LinearRegression()</pre></div></div></div></div></div>"
      ],
      "text/plain": [
       "LinearRegression()"
      ]
     },
     "execution_count": 20,
     "metadata": {},
     "output_type": "execute_result"
    }
   ],
   "source": [
    "lr.fit(x_train,y_train)"
   ]
  },
  {
   "cell_type": "code",
   "execution_count": 21,
   "id": "cc214d6e",
   "metadata": {},
   "outputs": [
    {
     "data": {
      "text/plain": [
       "-0.35113274221437507"
      ]
     },
     "execution_count": 21,
     "metadata": {},
     "output_type": "execute_result"
    }
   ],
   "source": [
    "c=lr.intercept_\n",
    "c"
   ]
  },
  {
   "cell_type": "code",
   "execution_count": 22,
   "id": "a9c44e36",
   "metadata": {},
   "outputs": [
    {
     "data": {
      "text/plain": [
       "array([0.41684538])"
      ]
     },
     "execution_count": 22,
     "metadata": {},
     "output_type": "execute_result"
    }
   ],
   "source": [
    "m=lr.coef_\n",
    "m"
   ]
  },
  {
   "cell_type": "code",
   "execution_count": 25,
   "id": "953df88e",
   "metadata": {},
   "outputs": [
    {
     "ename": "AttributeError",
     "evalue": "'Series' object has no attribute 'flatten'",
     "output_type": "error",
     "traceback": [
      "\u001b[1;31m---------------------------------------------------------------------------\u001b[0m",
      "\u001b[1;31mAttributeError\u001b[0m                            Traceback (most recent call last)",
      "Cell \u001b[1;32mIn[25], line 2\u001b[0m\n\u001b[0;32m      1\u001b[0m y_pred_train\u001b[38;5;241m=\u001b[39mm\u001b[38;5;241m*\u001b[39mx\u001b[38;5;241m+\u001b[39mc\n\u001b[1;32m----> 2\u001b[0m \u001b[43my_pred_train\u001b[49m\u001b[38;5;241;43m.\u001b[39;49m\u001b[43mflatten\u001b[49m()\n",
      "File \u001b[1;32m~\\AppData\\Local\\Programs\\Python\\Python311\\Lib\\site-packages\\pandas\\core\\generic.py:5902\u001b[0m, in \u001b[0;36mNDFrame.__getattr__\u001b[1;34m(self, name)\u001b[0m\n\u001b[0;32m   5895\u001b[0m \u001b[38;5;28;01mif\u001b[39;00m (\n\u001b[0;32m   5896\u001b[0m     name \u001b[38;5;129;01mnot\u001b[39;00m \u001b[38;5;129;01min\u001b[39;00m \u001b[38;5;28mself\u001b[39m\u001b[38;5;241m.\u001b[39m_internal_names_set\n\u001b[0;32m   5897\u001b[0m     \u001b[38;5;129;01mand\u001b[39;00m name \u001b[38;5;129;01mnot\u001b[39;00m \u001b[38;5;129;01min\u001b[39;00m \u001b[38;5;28mself\u001b[39m\u001b[38;5;241m.\u001b[39m_metadata\n\u001b[0;32m   5898\u001b[0m     \u001b[38;5;129;01mand\u001b[39;00m name \u001b[38;5;129;01mnot\u001b[39;00m \u001b[38;5;129;01min\u001b[39;00m \u001b[38;5;28mself\u001b[39m\u001b[38;5;241m.\u001b[39m_accessors\n\u001b[0;32m   5899\u001b[0m     \u001b[38;5;129;01mand\u001b[39;00m \u001b[38;5;28mself\u001b[39m\u001b[38;5;241m.\u001b[39m_info_axis\u001b[38;5;241m.\u001b[39m_can_hold_identifiers_and_holds_name(name)\n\u001b[0;32m   5900\u001b[0m ):\n\u001b[0;32m   5901\u001b[0m     \u001b[38;5;28;01mreturn\u001b[39;00m \u001b[38;5;28mself\u001b[39m[name]\n\u001b[1;32m-> 5902\u001b[0m \u001b[38;5;28;01mreturn\u001b[39;00m \u001b[38;5;28;43mobject\u001b[39;49m\u001b[38;5;241;43m.\u001b[39;49m\u001b[38;5;21;43m__getattribute__\u001b[39;49m\u001b[43m(\u001b[49m\u001b[38;5;28;43mself\u001b[39;49m\u001b[43m,\u001b[49m\u001b[43m \u001b[49m\u001b[43mname\u001b[49m\u001b[43m)\u001b[49m\n",
      "\u001b[1;31mAttributeError\u001b[0m: 'Series' object has no attribute 'flatten'"
     ]
    }
   ],
   "source": [
    "y_pred_train=m*x+c\n",
    "y_pred_train.flatten()"
   ]
  },
  {
   "cell_type": "code",
   "execution_count": 26,
   "id": "93c59ed6",
   "metadata": {},
   "outputs": [
    {
     "data": {
      "text/plain": [
       "array([1.73309416, 0.31581987, 1.31624878, 0.3575044 , 1.98320139,\n",
       "       1.31624878, 1.64972508, 1.98320139, 1.7747787 , 1.69140962,\n",
       "       0.23245079, 0.31581987, 1.98320139, 0.23245079, 0.31581987,\n",
       "       1.94151685, 1.7747787 , 1.31624878, 0.23245079, 1.35793332,\n",
       "       1.85814777, 1.52467147, 2.06657046, 2.40004677, 1.44130239,\n",
       "       0.19076625, 1.31624878, 1.69140962, 1.69140962, 1.31624878,\n",
       "       0.27413533, 1.52467147, 1.52467147, 1.27456424, 1.73309416,\n",
       "       1.64972508, 1.2328797 , 1.7747787 , 2.27499315, 2.19162408,\n",
       "       0.14908171, 2.02488593, 0.8994034 , 0.27413533, 2.108255  ,\n",
       "       1.64972508, 0.23245079, 1.52467147, 1.39961786, 1.81646324,\n",
       "       0.19076625, 0.06571264, 1.10782609, 0.10739718, 1.60804055,\n",
       "       1.39961786, 0.14908171, 2.06657046, 1.44130239, 1.52467147,\n",
       "       0.31581987, 2.52510038, 1.56635601, 1.7747787 , 1.98320139,\n",
       "       1.60804055, 0.27413533, 0.31581987, 1.94151685, 2.06657046,\n",
       "       1.48298693, 0.19076625, 1.81646324, 1.02445701, 2.02488593,\n",
       "       1.10782609, 0.19076625, 0.27413533, 0.27413533, 1.7747787 ,\n",
       "       0.23245079, 0.23245079, 1.69140962, 0.23245079, 1.48298693,\n",
       "       0.27413533, 1.56635601, 0.27413533, 0.19076625, 1.7747787 ])"
      ]
     },
     "execution_count": 26,
     "metadata": {},
     "output_type": "execute_result"
    }
   ],
   "source": [
    "y_predtrain1=lr.predict(x_train)\n",
    "y_predtrain1"
   ]
  },
  {
   "cell_type": "code",
   "execution_count": null,
   "id": "df698237",
   "metadata": {},
   "outputs": [],
   "source": []
  }
 ],
 "metadata": {
  "kernelspec": {
   "display_name": "Python 3 (ipykernel)",
   "language": "python",
   "name": "python3"
  },
  "language_info": {
   "codemirror_mode": {
    "name": "ipython",
    "version": 3
   },
   "file_extension": ".py",
   "mimetype": "text/x-python",
   "name": "python",
   "nbconvert_exporter": "python",
   "pygments_lexer": "ipython3",
   "version": "3.10.9"
  }
 },
 "nbformat": 4,
 "nbformat_minor": 5
}
